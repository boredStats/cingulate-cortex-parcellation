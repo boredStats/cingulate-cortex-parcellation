{
 "cells": [
  {
   "cell_type": "markdown",
   "metadata": {},
   "source": [
    "# Exploratory Factor Analysis (EFA) demo\n",
    "This notebook is designed to explain EFA and demonstrate how to perform it in Python.\n",
    "\n",
    "## Initialization"
   ]
  },
  {
   "cell_type": "code",
   "execution_count": 1,
   "metadata": {
    "scrolled": true
   },
   "outputs": [
    {
     "name": "stderr",
     "output_type": "stream",
     "text": [
      "C:\\ProgramData\\Anaconda3\\lib\\site-packages\\h5py\\__init__.py:36: FutureWarning: Conversion of the second argument of issubdtype from `float` to `np.floating` is deprecated. In future, it will be treated as `np.float64 == np.dtype(float).type`.\n",
      "  from ._conv import register_converters as _register_converters\n"
     ]
    }
   ],
   "source": [
    "import numpy as np\n",
    "import pandas as pd\n",
    "import pickle as pkl\n",
    "\n",
    "import sys\n",
    "sys.path.append('..')\n",
    "import proj_utils as pu\n",
    "import efaUtils as utils\n",
    "from factor_analyzer import FactorAnalyzer\n",
    "from os.path import join, isdir\n",
    "from os import getcwd, mkdir\n",
    "\n",
    "with open(\"../pData.pkl\", \"rb\") as f:\n",
    "    pData = pkl.load(f)\n",
    "seedList = pData['newNames']\n",
    "catColors = pData['catColors']\n",
    "coords = pData['coordsMNI']\n",
    "\n",
    "cdir = getcwd()\n",
    "    \n",
    "cpairs = []\n",
    "pairings = np.arange(0, catColors.shape[0], 2)\n",
    "for i in pairings:\n",
    "    cpairs.append([catColors[i, :] , catColors[i+1, :]])\n",
    "\n",
    "clusterSol = r\"./notebook_data/3kSolution.csv\"\n",
    "clustSolDf = pd.read_csv(clusterSol, header=None, index_col=0)\n",
    "hcols = pu.node_color_generator(catColors, (clustSolDf.values))"
   ]
  },
  {
   "cell_type": "markdown",
   "metadata": {},
   "source": [
    "## Determine number of factors using PCA"
   ]
  },
  {
   "cell_type": "code",
   "execution_count": 2,
   "metadata": {
    "scrolled": false
   },
   "outputs": [
    {
     "data": {
      "text/plain": [
       "(<Figure size 1000x1000 with 2 Axes>,\n",
       " <matplotlib.axes._subplots.AxesSubplot at 0x1f75a275908>,\n",
       " <matplotlib.axes._subplots.AxesSubplot at 0x1f75a59e470>)"
      ]
     },
     "execution_count": 2,
     "metadata": {},
     "output_type": "execute_result"
    }
   ],
   "source": [
    "file = r\"./notebook_data/seed_functional_profiles.csv\"\n",
    "fileDf = pd.read_csv(file,index_col=0)\n",
    "\n",
    "corr_prep = pd.DataFrame(fileDf.values.T)\n",
    "corrDf = corr_prep.corr()\n",
    "data = utils.centerMat(corrDf.values)\n",
    "dataDf = pd.DataFrame(data, columns=seedList, index=seedList)\n",
    "\n",
    "eigs, p = utils.permPCA(dataDf.values)\n",
    "utils.plotScree(eigs, p, kaiser=False)"
   ]
  },
  {
   "cell_type": "markdown",
   "metadata": {},
   "source": [
    "## Run EFA"
   ]
  },
  {
   "cell_type": "code",
   "execution_count": 3,
   "metadata": {
    "scrolled": false
   },
   "outputs": [
    {
     "name": "stderr",
     "output_type": "stream",
     "text": [
      "C:\\ProgramData\\Anaconda3\\lib\\site-packages\\nilearn\\plotting\\displays.py:1307: FutureWarning: elementwise comparison failed; returning scalar instead, but in the future will perform elementwise comparison\n",
      "  if node_color == 'auto':\n"
     ]
    }
   ],
   "source": [
    "rot = None\n",
    "fa = FactorAnalyzer()\n",
    "fa.analyze(dataDf, 3, rot)\n",
    "loadings = fa.loadings\n",
    "sqloadings = loadings**2\n",
    "\n",
    "f = loadings.values[:, 0:2]\n",
    "orig_eigs, com_eigs = fa.get_eigenvalues()\n",
    "e = com_eigs.values\n",
    "\n",
    "R, theta, rgb = utils.createColorSpace(f)\n",
    "utils.plotBrains(coords, rgb)\n",
    "utils.createColorLegend(R, theta)#, join(odir, \"%s_colorLegend.png\" % str(rot)))\n",
    "utils.plotBrains(coords, hcols)\n",
    "utils.plotFS(f, e, 'l', col=hcols)"
   ]
  },
  {
   "cell_type": "markdown",
   "metadata": {},
   "source": [
    "### EFA + varimax rotation"
   ]
  },
  {
   "cell_type": "code",
   "execution_count": 4,
   "metadata": {
    "scrolled": false
   },
   "outputs": [
    {
     "name": "stderr",
     "output_type": "stream",
     "text": [
      "C:\\ProgramData\\Anaconda3\\lib\\site-packages\\nilearn\\plotting\\displays.py:1307: FutureWarning: elementwise comparison failed; returning scalar instead, but in the future will perform elementwise comparison\n",
      "  if node_color == 'auto':\n"
     ]
    }
   ],
   "source": [
    "rot = 'varimax'\n",
    "fa = FactorAnalyzer()\n",
    "fa.analyze(dataDf, 3, rot)\n",
    "loadings = fa.loadings\n",
    "sqloadings = loadings**2\n",
    "\n",
    "f = loadings.values[:, 0:2]\n",
    "orig_eigs, com_eigs = fa.get_eigenvalues()\n",
    "e = com_eigs.values\n",
    "\n",
    "R, theta, rgb = utils.createColorSpace(f)\n",
    "utils.plotBrains(coords, rgb)\n",
    "utils.createColorLegend(R, theta)\n",
    "utils.plotBrains(coords, hcols)\n",
    "utils.plotFS(f, e, 'l', col=hcols)"
   ]
  }
 ],
 "metadata": {
  "kernelspec": {
   "display_name": "Python 3",
   "language": "python",
   "name": "python3"
  },
  "language_info": {
   "codemirror_mode": {
    "name": "ipython",
    "version": 3
   },
   "file_extension": ".py",
   "mimetype": "text/x-python",
   "name": "python",
   "nbconvert_exporter": "python",
   "pygments_lexer": "ipython3",
   "version": "3.6.5"
  }
 },
 "nbformat": 4,
 "nbformat_minor": 2
}
